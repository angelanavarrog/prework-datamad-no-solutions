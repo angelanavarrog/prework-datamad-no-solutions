{
 "cells": [
  {
   "cell_type": "markdown",
   "metadata": {},
   "source": [
    "# Rock Paper Scissors\n",
    "\n",
    "Let's play the famous game against our computer.\n",
    "\n",
    "https://en.wikipedia.org/wiki/Rock%E2%80%93paper%E2%80%93scissors\n",
    "\n",
    "The use of functions is recommended\n",
    "\n",
    "## Goals\n",
    "1. Use of loop\n",
    "2. Data capture by console\n",
    "3. Use if-elif-else\n",
    "4. Use of try-except\n",
    "5. Definition of functions. Modular programming\n",
    "6. Logical operators.\n",
    "7. Print\n",
    "8. Import modules"
   ]
  },
  {
   "cell_type": "code",
   "execution_count": 12,
   "metadata": {},
   "outputs": [],
   "source": [
    "# Import the choice function of the random module\n",
    "# https://stackoverflow.com/questions/306400/how-to-randomly-select-an-item-from-a-list\n",
    "\n",
    "import random"
   ]
  },
  {
   "cell_type": "code",
   "execution_count": 25,
   "metadata": {},
   "outputs": [],
   "source": [
    "# Assign to a list the 3 possible options: 'stone', 'paper' or 'scissors'.\n",
    "\n",
    "gestures = ['rock', 'paper', 'scissors']"
   ]
  },
  {
   "cell_type": "code",
   "execution_count": 26,
   "metadata": {},
   "outputs": [],
   "source": [
    "# Assign a variable to the maximum number of games: 1, 3, 5, etc ...\n",
    "\n",
    "print('Enter number of rounds:')\n",
    "n_rounds = input()\n",
    "\n",
    "\n",
    "while float(n_rounds) % 2 != 1:\n",
    "    print('Number of rounds must be odd: 1, 3, 5, .... Enter new number')\n",
    "    n_rounds = input()"
   ]
  },
  {
   "cell_type": "code",
   "execution_count": 27,
   "metadata": {},
   "outputs": [],
   "source": [
    "# Assign a variable to the number of games a player must win to win.\n",
    "# Preferably the value will be based on the number of maximum games\n",
    "\n",
    "import math \n",
    "\n",
    "rounds_to_win = float(n_rounds)* 0.5\n",
    "rounds_to_win = math.ceil(rounds_to_win) \n",
    "print('Rounds to win:', rounds_to_win)"
   ]
  },
  {
   "cell_type": "code",
   "execution_count": 28,
   "metadata": {},
   "outputs": [],
   "source": [
    "# Define a function that randomly returns one of the 3 options.\n",
    "# This will correspond to the play of the machine. Totally random.\n",
    "\n",
    "cpu_score=0\n",
    "player_score=0"
   ]
  },
  {
   "cell_type": "code",
   "execution_count": 29,
   "metadata": {},
   "outputs": [],
   "source": [
    "# Define a function that asks your choice: 'stone', 'paper' or 'scissors'\n",
    "# you should only allow one of the 3 options. This is defensive programming.\n",
    "# If it is not stone, paper or scissors keep asking until it is.\n",
    "\n",
    "cpu_gesture = random.choice(gestures) \n",
    "print(\"Computer choice is: \", str(cpu_gesture))"
   ]
  },
  {
   "cell_type": "code",
   "execution_count": 30,
   "metadata": {},
   "outputs": [],
   "source": [
    "# Define a function that resolves a combat.\n",
    "# Returns 0 if there is a tie, 1 if the machine wins, 2 if the human player wins\n",
    " \n",
    "def function_gest_select():\n",
    "    while True:\n",
    "        x = input('Enter choice \\n rock \\n paper \\n scissors \\n')\n",
    "        if x in gestures:\n",
    "            return x\n",
    "        else:\n",
    "            x = input('Enter choice \\n rock \\n paper \\n scissors \\n')\n",
    "    return x\n",
    "        \n",
    "player_gesture = function_gest_select()\n",
    "print('Your choice:', player_gesture)"
   ]
  },
  {
   "cell_type": "code",
   "execution_count": 31,
   "metadata": {},
   "outputs": [],
   "source": [
    "# Define a function that shows the choice of each player and the state of the game\n",
    "# This function should be used every time accumulated points are updated\n",
    "\n",
    "def win():\n",
    "    if cpu_gesture == player_gesture:\n",
    "        y=0\n",
    "    else:\n",
    "        if ((cpu_gesture == gestures[0] and player_gesture == gestures[1]) \n",
    "        or (cpu_gesture == gestures[1] and player_gesture == gestures[2]) \n",
    "        or (cpu_gesture == gestures[2] and player_gesture == gestures[0])):\n",
    "            y=1\n",
    "        elif ((player_gesture == gestures[0] and cpu_gesture == gestures[1]) \n",
    "          or (player_gesture == gestures[1] and cpu_gesture == gestures[2]) \n",
    "          or (player_gesture == gestures[2] and cpu_gesture == gestures[0])):\n",
    "            y=2       \n",
    "print(win())"
   ]
  },
  {
   "cell_type": "code",
   "execution_count": 32,
   "metadata": {},
   "outputs": [],
   "source": [
    "# Create two variables that accumulate the wins of each participant\n",
    "\n",
    "def game_situation(cpu_choice, player_choice, cpu_score, player_score):\n",
    "    print('The computer chose: %s \\n' %cpu_play)\n",
    "    print('The player chose: %s \\n' %player_play)\n",
    "    print('The computer has won %d matches \\n' %cpu_score)\n",
    "    print('The player has won %d matches', player_score)"
   ]
  },
  {
   "cell_type": "code",
   "execution_count": 8,
   "metadata": {},
   "outputs": [
    {
     "ename": "NameError",
     "evalue": "name 'cpu_gesture' is not defined",
     "output_type": "error",
     "traceback": [
      "\u001b[0;31m---------------------------------------------------------------------------\u001b[0m",
      "\u001b[0;31mNameError\u001b[0m                                 Traceback (most recent call last)",
      "\u001b[0;32m<ipython-input-8-745560d12162>\u001b[0m in \u001b[0;36m<module>\u001b[0;34m\u001b[0m\n\u001b[1;32m     11\u001b[0m         \u001b[0mw\u001b[0m\u001b[0;34m=\u001b[0m\u001b[0;34m'tie'\u001b[0m\u001b[0;34m\u001b[0m\u001b[0;34m\u001b[0m\u001b[0m\n\u001b[1;32m     12\u001b[0m \u001b[0;34m\u001b[0m\u001b[0m\n\u001b[0;32m---> 13\u001b[0;31m \u001b[0mprint\u001b[0m\u001b[0;34m(\u001b[0m\u001b[0;34m\"Computer choice is: \"\u001b[0m\u001b[0;34m,\u001b[0m \u001b[0mcpu_gesture\u001b[0m\u001b[0;34m)\u001b[0m\u001b[0;34m\u001b[0m\u001b[0;34m\u001b[0m\u001b[0m\n\u001b[0m\u001b[1;32m     14\u001b[0m \u001b[0mprint\u001b[0m\u001b[0;34m(\u001b[0m\u001b[0;34m'Your choice:'\u001b[0m\u001b[0;34m,\u001b[0m \u001b[0mplayer_gesture\u001b[0m\u001b[0;34m)\u001b[0m\u001b[0;34m\u001b[0m\u001b[0;34m\u001b[0m\u001b[0m\n\u001b[1;32m     15\u001b[0m \u001b[0mprint\u001b[0m\u001b[0;34m(\u001b[0m\u001b[0;34m'Round is won by'\u001b[0m\u001b[0;34m,\u001b[0m \u001b[0mw\u001b[0m\u001b[0;34m)\u001b[0m\u001b[0;34m\u001b[0m\u001b[0;34m\u001b[0m\u001b[0m\n",
      "\u001b[0;31mNameError\u001b[0m: name 'cpu_gesture' is not defined"
     ]
    }
   ],
   "source": [
    "# Create a loop that iterates while no player reaches the minimum of wins\n",
    "# necessary to win. Inside the loop solves the play of the\n",
    "# machine and ask the player's. Compare them and update the value of the variables\n",
    "# that accumulate the wins of each participant.\n",
    "def win(w):\n",
    "    if y == (2):\n",
    "        w='player'\n",
    "    if y == (1):\n",
    "        w='computer'\n",
    "    if y == (0):\n",
    "        w='tie'\n",
    "\n",
    "print(\"Computer choice is: \", cpu_gesture) \n",
    "print('Your choice:', player_gesture)\n",
    "print('Round is won by', w)\n"
   ]
  },
  {
   "cell_type": "code",
   "execution_count": 3,
   "metadata": {},
   "outputs": [],
   "source": [
    "# Print by console the winner of the game based on who has more accumulated wins\n"
   ]
  },
  {
   "cell_type": "markdown",
   "metadata": {},
   "source": [
    "**Expected output**: Depends on the inputs, you know how to play and what to expect. "
   ]
  },
  {
   "cell_type": "markdown",
   "metadata": {},
   "source": [
    "# Bonus: Stone, paper, scissors, lizard, spock\n",
    "\n",
    "Now the improvement begins.\n",
    "\n",
    "![](images/rpsls.jpg)\n",
    "\n",
    "\n",
    "http://www.samkass.com/theories/RPSSL.html\n",
    "\n",
    "You are asked to impliment some improvements with respect to the simple previous game. In addition, the number of games (which must be ODD) will be requested per console until a valid number is entered.\n",
    "\n",
    "Improvements:\n",
    "* 5 options: stone, paper, scissors, lizard, spock\n",
    "* The number of games is requested per console\n",
    "Tip: Reuse code that you already use. If you have programmed intelligently, the bonus are simple modifications to the original game."
   ]
  },
  {
   "cell_type": "code",
   "execution_count": null,
   "metadata": {},
   "outputs": [],
   "source": [
    "# Import the choice function of the random module\n",
    "\n",
    "import random\n",
    "# Define a function that asks for an odd number on the keyboard, until it is not valid\n",
    "# will keep asking\n",
    "\n",
    "\n",
    "# Assign a list of 5 possible options.\n",
    "\n",
    "gestures_new = [\"Rock\", \"Paper\", \"Scissors\", \"lizard\",\"spock\"]\n",
    "\n",
    "# Assign a variable to the maximum number of games: 1, 3, 5, etc ...\n",
    "# This time the previously defined function is used\n",
    "\n",
    "n_rounds=5\n",
    "\n",
    "# Assign a variable to the number of games a player must win to win.\n",
    "# Preferably the value will be based on the number of maximum games\n",
    "rounds_to_win=n_rounds-2\n",
    "\n",
    "# Define a function that randomly returns one of the 5 options.\n",
    "# This will correspond to the play of the machine. Totally random.\n",
    "\n",
    "cpu_score_new=0\n",
    "player_score_new=0\n",
    "\n",
    "# Define a function that asks your choice between 5\n",
    "# you should only allow one of the 5 options. This is defensive programming.\n",
    "# If it is not valid, keep asking until it is valid.\n",
    "def random_choice_new(gestures_new):\n",
    "    return random.choice(gestures_new)\n",
    "\n",
    "# Define a function that resolves a combat.\n",
    "# Returns 0 if there is a tie, 1 if the machine wins, 2 if the human player wins\n",
    "# Now there are more options\n",
    "\n",
    "def player_choice_new():\n",
    "    choice=\"\"\n",
    "    while (choice!=\"rock\" and choice != \"paper\" and choice != \"scissors\" and choice!=\"spock\" and choice!=\"lizard\"):\n",
    "        try:\n",
    "            choice = input ('Choose: rock, paper, scissors, spock, lizard: ')\n",
    "        except Exception as e:\n",
    "            print(\"Please introduce one of the suggested words\")\n",
    "    return (choice)\n",
    "    \n",
    "# Define a function that shows the choice of each player and the state of the game\n",
    "# This function should be used every time accumulated points are updated\n",
    "\n",
    "def wins_new(cpu_play_new, player_play_new):\n",
    "    if (cpu_choice_new==player_choice_new):\n",
    "        return 0\n",
    "    elif (cpu_play_new == \"rock\"):\n",
    "        return 1 if (player_play_new == 'scissors' or player_play_new == \"lizard\") else 2\n",
    "    elif (cpu_play_new == 'paper'):\n",
    "        return 1 if (player_play_new == 'rock' or player_play_new == \"spock\") else 2\n",
    "    elif (cpu_play_new == 'scissors'):\n",
    "        return 1 if (player_play_new == 'paper' or player_play_new == 'lizard') else 2\n",
    "    elif (cpu_play_new == 'spock'):\n",
    "        return 1 if (player_play_new == 'scissors' or player_play_new == 'rock') else 2\n",
    "    elif (cpu_play_new == 'lizard'):\n",
    "        return 1 if (player_play_new == 'spock' or player_play_new == 'paper') else 2\n",
    "    \n",
    "# Create two variables that accumulate the wins of each participant\n",
    "\n",
    "def game_situation_new(cpu_choice_new, player_choice_new, cpu_score_new, player_score_new):\n",
    "    print('The computer chose: %s \\n' %cpu_play_new)\n",
    "    print('The player chose: %s \\n' %player_play_new)\n",
    "    print('The computer has won %d matches \\n' %cpu_score_new)\n",
    "    print('The player has won %d matches \\n' %player_score_new)\n",
    "# Create a loop that iterates while no player reaches the minimum of wins\n",
    "# necessary to win. Inside the loop solves the play of the\n",
    "# machine and ask the player's. Compare them and update the value of the variables\n",
    "# that accumulate the wins of each participant.\n",
    "    \n",
    "while (cpu_score_new < rounds_to_win and player_score_new < rounds_to_win):\n",
    "    cpu_play_new= random_choice_new(gestures_new)\n",
    "    player_play_new = player_choice_new()\n",
    "    \n",
    "    clash_new = wins_new(cpu_play_new, player_play_new)\n",
    "    \n",
    "    if (clash_new == 1):\n",
    "        cpu_score_new += 1\n",
    "    elif (clash_new == 2):\n",
    "        player_score_new += 1\n",
    "        \n",
    "    game_situation_new(cpu_play_new, player_play_new, cpu_score_new, player_score_new)    \n",
    "# Print by console the winner of the game based on who has more accumulated wins\n",
    "\n"
   ]
  },
  {
   "cell_type": "markdown",
   "metadata": {},
   "source": [
    "**Expected output**: Depends on the inputs, you know how to play and what to expect. "
   ]
  }
 ],
 "metadata": {
  "kernelspec": {
   "display_name": "Python 3",
   "language": "python",
   "name": "python3"
  },
  "language_info": {
   "codemirror_mode": {
    "name": "ipython",
    "version": 3
   },
   "file_extension": ".py",
   "mimetype": "text/x-python",
   "name": "python",
   "nbconvert_exporter": "python",
   "pygments_lexer": "ipython3",
   "version": "3.9.1"
  }
 },
 "nbformat": 4,
 "nbformat_minor": 2
}
